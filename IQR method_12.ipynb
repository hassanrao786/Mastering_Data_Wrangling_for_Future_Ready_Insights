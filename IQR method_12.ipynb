{
 "cells": [
  {
   "cell_type": "code",
   "execution_count": 2,
   "id": "6e8b8676",
   "metadata": {},
   "outputs": [],
   "source": [
    "age=[23,45,34,23,43,23,20,34,80,100,34,23,23]\n",
    "q1=25/100*13+1"
   ]
  },
  {
   "cell_type": "code",
   "execution_count": 4,
   "id": "0685d902",
   "metadata": {},
   "outputs": [
    {
     "name": "stdout",
     "output_type": "stream",
     "text": [
      "4.25\n"
     ]
    }
   ],
   "source": [
    "q1=25/100*13+1\n",
    "print(q1)"
   ]
  },
  {
   "cell_type": "code",
   "execution_count": 5,
   "id": "61ff19aa",
   "metadata": {},
   "outputs": [
    {
     "name": "stdout",
     "output_type": "stream",
     "text": [
      "10.75\n"
     ]
    }
   ],
   "source": [
    "q3=75/100*13+1\n",
    "print(q3)"
   ]
  },
  {
   "cell_type": "code",
   "execution_count": 8,
   "id": "ed952620",
   "metadata": {},
   "outputs": [
    {
     "name": "stdout",
     "output_type": "stream",
     "text": [
      "6.5\n"
     ]
    }
   ],
   "source": [
    "IQR=   10.75-4.25\n",
    "print(IQR)"
   ]
  },
  {
   "cell_type": "code",
   "execution_count": 13,
   "id": "18a165ab",
   "metadata": {},
   "outputs": [
    {
     "name": "stdout",
     "output_type": "stream",
     "text": [
      "-5.5 1.0\n"
     ]
    }
   ],
   "source": [
    "Q1=4.25-1.5*6.5\n",
    "Q3=10.75-1.5*6.5\n",
    "print(Q1,Q3)"
   ]
  },
  {
   "cell_type": "code",
   "execution_count": null,
   "id": "0c3c5f09",
   "metadata": {},
   "outputs": [],
   "source": []
  },
  {
   "cell_type": "code",
   "execution_count": 31,
   "id": "713ead32",
   "metadata": {},
   "outputs": [
    {
     "name": "stdout",
     "output_type": "stream",
     "text": [
      "[20, 23, 23, 23, 23, 23, 34, 34, 34, 43, 45, 80, 100]\n"
     ]
    }
   ],
   "source": [
    "age=sorted([23,45,34,23,43,23,20,34,80,100,34,23,23])\n",
    "print(age)"
   ]
  },
  {
   "cell_type": "code",
   "execution_count": 26,
   "id": "d6361005",
   "metadata": {},
   "outputs": [
    {
     "name": "stdout",
     "output_type": "stream",
     "text": [
      "23.0 43.0\n"
     ]
    }
   ],
   "source": [
    "age=sorted([23,45,34,23,43,23,20,34,80,100,34,23,23])\n",
    "q1,q3=np.percentile(age,[25,75])\n",
    "print(q1,q3)"
   ]
  },
  {
   "cell_type": "code",
   "execution_count": 28,
   "id": "0d16f981",
   "metadata": {},
   "outputs": [
    {
     "name": "stdout",
     "output_type": "stream",
     "text": [
      "20.0\n"
     ]
    }
   ],
   "source": [
    "iqr=q3-q1\n",
    "print(iqr)"
   ]
  },
  {
   "cell_type": "code",
   "execution_count": 30,
   "id": "4bc3eaad",
   "metadata": {},
   "outputs": [
    {
     "name": "stdout",
     "output_type": "stream",
     "text": [
      "-7.0\n",
      "13.0\n"
     ]
    }
   ],
   "source": [
    "lower_boundary=q1-(1.5*iqr)\n",
    "upper_boundary=q3-(1.5*iqr)\n",
    "print(lower_boundary)\n",
    "print(upper_boundary)"
   ]
  },
  {
   "cell_type": "code",
   "execution_count": 33,
   "id": "b00dabcf",
   "metadata": {},
   "outputs": [],
   "source": [
    "import seaborn as sns\n"
   ]
  },
  {
   "cell_type": "code",
   "execution_count": 35,
   "id": "5186fd0c",
   "metadata": {},
   "outputs": [
    {
     "data": {
      "text/plain": [
       "<Axes: ylabel='Count'>"
      ]
     },
     "execution_count": 35,
     "metadata": {},
     "output_type": "execute_result"
    },
    {
     "data": {
      "image/png": "[encoded data removed]",
      "text/plain": [
       "<Figure size 640x480 with 1 Axes>"
      ]
     },
     "metadata": {},
     "output_type": "display_data"
    }
   ],
   "source": [
    "sns.histplot(age)"
   ]
  },
  {
   "cell_type": "code",
   "execution_count": null,
   "id": "319bdb7b",
   "metadata": {},
   "outputs": [],
   "source": []
  },
  {
   "cell_type": "code",
   "execution_count": null,
   "id": "9d8ad117",
   "metadata": {},
   "outputs": [],
   "source": [
    "43,23\n"
   ]
  },
  {
   "cell_type": "code",
   "execution_count": null,
   "id": "214eb376",
   "metadata": {},
   "outputs": [],
   "source": [
    "23 min"
   ]
  },
  {
   "cell_type": "code",
   "execution_count": null,
   "id": "773d00db",
   "metadata": {},
   "outputs": [],
   "source": [
    "100 max"
   ]
  },
  {
   "cell_type": "code",
   "execution_count": null,
   "id": "c7ad0166",
   "metadata": {},
   "outputs": [],
   "source": [
    "4.25   1st quartile\n"
   ]
  },
  {
   "cell_type": "code",
   "execution_count": null,
   "id": "4a613c61",
   "metadata": {},
   "outputs": [],
   "source": [
    "10.75  3rd quartile"
   ]
  },
  {
   "cell_type": "code",
   "execution_count": null,
   "id": "e064e3f7",
   "metadata": {},
   "outputs": [],
   "source": [
    "median  34 "
   ]
  },
  {
   "cell_type": "code",
   "execution_count": null,
   "id": "662dbe81",
   "metadata": {},
   "outputs": [],
   "source": []
  },
  {
   "cell_type": "code",
   "execution_count": null,
   "id": "03f603bd",
   "metadata": {},
   "outputs": [],
   "source": []
  },
  {
   "cell_type": "code",
   "execution_count": null,
   "id": "0efae87b",
   "metadata": {},
   "outputs": [],
   "source": []
  }
 ],
 "metadata": {
  "kernelspec": {
   "display_name": "Python 3 (ipykernel)",
   "language": "python",
   "name": "python3"
  },
  "language_info": {
   "codemirror_mode": {
    "name": "ipython",
    "version": 3
   },
   "file_extension": ".py",
   "mimetype": "text/x-python",
   "name": "python",
   "nbconvert_exporter": "python",
   "pygments_lexer": "ipython3",
   "version": "3.10.9"
  }
 },
 "nbformat": 4,
 "nbformat_minor": 5
}
